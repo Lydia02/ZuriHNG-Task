{
 "cells": [
  {
   "cell_type": "code",
   "execution_count": 1,
   "id": "0ded175a",
   "metadata": {},
   "outputs": [],
   "source": [
    "#HNG TASK TWO"
   ]
  },
  {
   "cell_type": "code",
   "execution_count": 4,
   "id": "19c6345d",
   "metadata": {},
   "outputs": [
    {
     "name": "stdout",
     "output_type": "stream",
     "text": [
      "Hello {}Ojoawo Lydia Subuola\n"
     ]
    }
   ],
   "source": [
    "name = 'Ojoawo Lydia Subuola'\n",
    "print('Hello {}' .format name)"
   ]
  },
  {
   "cell_type": "code",
   "execution_count": null,
   "id": "d18ffb8f",
   "metadata": {},
   "outputs": [],
   "source": []
  }
 ],
 "metadata": {
  "kernelspec": {
   "display_name": "Python 3",
   "language": "python",
   "name": "python3"
  },
  "language_info": {
   "codemirror_mode": {
    "name": "ipython",
    "version": 3
   },
   "file_extension": ".py",
   "mimetype": "text/x-python",
   "name": "python",
   "nbconvert_exporter": "python",
   "pygments_lexer": "ipython3",
   "version": "3.8.8"
  }
 },
 "nbformat": 4,
 "nbformat_minor": 5
}
